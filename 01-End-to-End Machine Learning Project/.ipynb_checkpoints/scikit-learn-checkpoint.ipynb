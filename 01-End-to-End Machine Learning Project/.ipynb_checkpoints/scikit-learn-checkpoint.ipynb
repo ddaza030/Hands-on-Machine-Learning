{
 "cells": [
  {
   "cell_type": "markdown",
   "id": "1bb3714b",
   "metadata": {},
   "source": [
    "## split train/test "
   ]
  },
  {
   "cell_type": "code",
   "execution_count": null,
   "id": "2cfeb9d4",
   "metadata": {},
   "outputs": [],
   "source": [
    "train_test_split(\"dataframe\", test_size=\"porcentaje de test\",random_state=42) \n",
    "#divide la información en train_set and test_set\n"
   ]
  },
  {
   "cell_type": "markdown",
   "id": "c566075e",
   "metadata": {},
   "source": [
    "## stratified sampling\n",
    "the population is divided into homogeneous subgroups called strata, and the right\n",
    "number of instances are sampled from each stratum to guarantee that the test set is\n",
    "representative of the overall population."
   ]
  },
  {
   "cell_type": "code",
   "execution_count": null,
   "id": "bbbeffd0",
   "metadata": {},
   "outputs": [],
   "source": [
    "split = StratifiedShuffleSplit(n_splits=1, test_size=0.2,random_state=42)\n",
    "for train_index, test_index in split.split(data, data[\"category\"]):\n",
    "    strat_train_set = data.loc[train_index]\n",
    "    strat_test_set = data.loc[test_index]\n",
    "#realiza el split train/test basado en un parametro"
   ]
  },
  {
   "cell_type": "markdown",
   "id": "aa247354",
   "metadata": {},
   "source": [
    "# Transformers\n",
    "\n",
    "reciben datos del tipo np y devuelven datos del tipo np, por eso se debe pasar el dataframe pero solo en forma de df.values\n",
    "\n",
    "\n",
    "## SimpleImputer (DataCleaning)\n",
    "Sckit_Learn provides a handy class to take care of missing values \n",
    "https://scikit-learn.org/stable/modules/generated/sklearn.impute.SimpleImputer.html\n",
    "Strategy: \n",
    "-median \n",
    "-mean\n",
    "-most_frequent\n",
    "-constant"
   ]
  },
  {
   "cell_type": "code",
   "execution_count": null,
   "id": "67f09d34",
   "metadata": {},
   "outputs": [],
   "source": [
    "from sklearn.impute import SimpleImputer\n",
    "\n",
    "#First, you need to create a SimpleImputer instance, specifying\n",
    "#that you want to replace each attribute’s missing values with the median of that\n",
    "#attribute\n",
    "\n",
    "imputer = SimpleImputer(Strategy=\"median\")   #se crea una instancia de la calse SimpleImputer\n",
    "imputer.fit(data) #se acomodan los datos de la instancia con respecto al df\n",
    "\n",
    "imputer.statistics_==data.median().values    #en la variable statistics_ quedan los valores de la mediana de data\n",
    ">>>True\n",
    "\n",
    "X = imputer.transform(data)                  #se rellenan los espacios vacios de data con la mediana\n",
    "                                             #x es un dato np\n",
    "    \n",
    "data_tr=pd.DataFrame(X,columns=data.columns, #y aca lo transformamos a pd\n",
    "                     index=data.index)"
   ]
  },
  {
   "cell_type": "markdown",
   "id": "08c05bc4",
   "metadata": {},
   "source": [
    "## Categories from text to numbers\n",
    "### OrdinalEncoder (categorias en un orden jerarquico)"
   ]
  },
  {
   "cell_type": "code",
   "execution_count": null,
   "id": "aadff4f0",
   "metadata": {},
   "outputs": [],
   "source": [
    "from sklearn.preprocessing import OrdinalEncoder\n",
    "\n",
    "ordinal_encoder= OrdinalEncoder()                  #se crearia una instancia de la clase ordinalencoder\n",
    "data_encoded = ordinal_encoder.fit_transform(data) # devuelve data_encoded que es igual a data pero con categorias en números\n",
    "\n",
    "ordinal_encoder.categories_                        # devuelve el valor de las categorias"
   ]
  },
  {
   "cell_type": "markdown",
   "id": "d165fd4a",
   "metadata": {},
   "source": [
    "### OneHotEncoder\n",
    "a binary attribute per category is created, only one attribute per row will be equal to 1(hot), while the others will be 0 (cold)"
   ]
  },
  {
   "cell_type": "code",
   "execution_count": null,
   "id": "079ac38a",
   "metadata": {},
   "outputs": [],
   "source": [
    "from sklearn.preprocessing import OneHotEncoder\n",
    "\n",
    "one_hot=OneHotEncoder()\n",
    "data_encoded=one_hot.fit_transform(data)"
   ]
  },
  {
   "cell_type": "markdown",
   "id": "ba5a61ed",
   "metadata": {},
   "source": [
    "# Custom Transformers"
   ]
  },
  {
   "cell_type": "code",
   "execution_count": null,
   "id": "184b1223",
   "metadata": {},
   "outputs": [],
   "source": [
    "from sklearn.base import BaseEstimator, TransformerMixin\n",
    "\n",
    "class CustomTransformer(BaseEstimator, TransformerMixin): #se hereda de estas dos clases lo que le permite tener\n",
    "                                                          #fit_transform(), set_params(), get_params() \n",
    " def __init__(self, \"atributos que necesites para el constructor\"): # no *args or **kargs\n",
    "     #desarrollo del constructor\n",
    " def fit(self, X, y=None):\n",
    "     return self # nothing else to do\n",
    " def transform(self, X):\n",
    "     #aca va como quieras transformar los datos\n",
    "     #y se returna lo que quieres que devuelva la tranasformación\n",
    "     return respuesta"
   ]
  },
  {
   "cell_type": "markdown",
   "id": "8c5250a4",
   "metadata": {},
   "source": [
    "# Pipelines (secuencia de transformadores)"
   ]
  },
  {
   "cell_type": "markdown",
   "id": "1bcc4960",
   "metadata": {},
   "source": [
    "Estas reciben una lista de la forma name/estimator, \n",
    "y todos los estimadores de la lista deben ser transformadores menos el último"
   ]
  },
  {
   "cell_type": "code",
   "execution_count": null,
   "id": "0ad833e8",
   "metadata": {},
   "outputs": [],
   "source": [
    "from sklearn.pipeline import Pipeline\n",
    "\n",
    "pipeline = Pipeline([\n",
    " ('nombre1', Estimador1()),\n",
    " ('nombre2', Estimador2()),\n",
    " ('nombre3', Estimador3()),\n",
    " ])\n",
    "\n",
    "data_tr = pipeline.fit_transform(data) #fit_transform si el último estimador es transformador\n",
    "                                       #por el contrario solo va a recibir fit"
   ]
  },
  {
   "cell_type": "markdown",
   "id": "253e9394",
   "metadata": {},
   "source": [
    "## ColumnTransformer (secuencia  de transformadores aplicado a columnas especificadas)\n",
    "\n",
    "Instead of using a transformer, you can specify the string \"drop\" if\n",
    "you want the columns to be dropped, or you can specify \"pass\n",
    "through\" if you want the columns to be left untouched. "
   ]
  },
  {
   "cell_type": "code",
   "execution_count": null,
   "id": "41f9ec23",
   "metadata": {},
   "outputs": [],
   "source": [
    "from sklearn.compose import ColumnTransformer\n",
    "\n",
    "full_pipeline= ColumnTransformer([\n",
    "    (\"nombre1\",Estimador1(),lista1),  #se mete una lista con el nombre de las columnas al cual se aplicará\n",
    "    (\"nombre1\",Estimador1(),lista1)\n",
    "])"
   ]
  },
  {
   "cell_type": "markdown",
   "id": "c59774ae",
   "metadata": {},
   "source": [
    "# Training and Evaluation on the Training Set\n",
    "\n",
    "Como generalmente no queremos tocar el test_set hasta que ya vayamos a lanzar el programa debemos dividir el train_set\n",
    "\n",
    "## Training"
   ]
  },
  {
   "cell_type": "code",
   "execution_count": null,
   "id": "954d645c",
   "metadata": {},
   "outputs": [],
   "source": [
    "from slearn.linear_model import LinearRegrassion\n",
    "\n",
    "#prepara el modelo\n",
    "lin_reg = LinearRegression()\n",
    "#entrena el modelo\n",
    "lin.fit(data_prepared,data_labels)"
   ]
  }
 ],
 "metadata": {
  "kernelspec": {
   "display_name": "Python 3",
   "language": "python",
   "name": "python3"
  },
  "language_info": {
   "codemirror_mode": {
    "name": "ipython",
    "version": 3
   },
   "file_extension": ".py",
   "mimetype": "text/x-python",
   "name": "python",
   "nbconvert_exporter": "python",
   "pygments_lexer": "ipython3",
   "version": "3.8.8"
  }
 },
 "nbformat": 4,
 "nbformat_minor": 5
}
